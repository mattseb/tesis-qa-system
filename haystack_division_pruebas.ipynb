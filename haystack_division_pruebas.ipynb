{
 "cells": [
  {
   "cell_type": "code",
   "execution_count": 1,
   "metadata": {},
   "outputs": [
    {
     "name": "stderr",
     "output_type": "stream",
     "text": [
      "c:\\Users\\sotof\\AppData\\Local\\Programs\\Python\\Python311\\Lib\\site-packages\\tqdm\\auto.py:21: TqdmWarning: IProgress not found. Please update jupyter and ipywidgets. See https://ipywidgets.readthedocs.io/en/stable/user_install.html\n",
      "  from .autonotebook import tqdm as notebook_tqdm\n"
     ]
    }
   ],
   "source": [
    "from haystack.telemetry import tutorial_running\n",
    "from haystack.nodes import TextConverter, PDFToTextConverter, DocxToTextConverter, PreProcessor\n",
    "import logging\n",
    "from haystack.nodes import PreProcessor\n",
    "from langdetect import detect\n",
    "import nltk\n",
    "import pandas as pd\n",
    "\n"
   ]
  },
  {
   "cell_type": "code",
   "execution_count": 2,
   "metadata": {},
   "outputs": [],
   "source": [
    "# Logs\n",
    "logging.basicConfig(format=\"%(levelname)s - %(name)s -  %(message)s\", level=logging.WARNING)\n",
    "logging.getLogger(\"haystack\").setLevel(logging.INFO)"
   ]
  },
  {
   "cell_type": "code",
   "execution_count": 3,
   "metadata": {},
   "outputs": [
    {
     "data": {
      "text/html": [
       "<div>\n",
       "<style scoped>\n",
       "    .dataframe tbody tr th:only-of-type {\n",
       "        vertical-align: middle;\n",
       "    }\n",
       "\n",
       "    .dataframe tbody tr th {\n",
       "        vertical-align: top;\n",
       "    }\n",
       "\n",
       "    .dataframe thead th {\n",
       "        text-align: right;\n",
       "    }\n",
       "</style>\n",
       "<table border=\"1\" class=\"dataframe\">\n",
       "  <thead>\n",
       "    <tr style=\"text-align: right;\">\n",
       "      <th></th>\n",
       "      <th>PageURL</th>\n",
       "      <th>Title</th>\n",
       "      <th>CreationDate</th>\n",
       "      <th>Seccion</th>\n",
       "      <th>Subseccion</th>\n",
       "      <th>Contenido</th>\n",
       "      <th>WikipageID</th>\n",
       "      <th>LastModified</th>\n",
       "    </tr>\n",
       "  </thead>\n",
       "  <tbody>\n",
       "    <tr>\n",
       "      <th>0</th>\n",
       "      <td>https://en.wikipedia.org/wiki/Carbon_dioxide</td>\n",
       "      <td>Carbon dioxide</td>\n",
       "      <td>2023-09-25T06:26:03Z</td>\n",
       "      <td>NaN</td>\n",
       "      <td>NaN</td>\n",
       "      <td>Carbon dioxide is a chemical compound with the...</td>\n",
       "      <td>5906</td>\n",
       "      <td>2023-09-25T06:26:03Z</td>\n",
       "    </tr>\n",
       "    <tr>\n",
       "      <th>1</th>\n",
       "      <td>https://en.wikipedia.org/wiki/Carbon_dioxide</td>\n",
       "      <td>Carbon dioxide</td>\n",
       "      <td>2023-09-25T06:26:03Z</td>\n",
       "      <td>Chemical and physical properties</td>\n",
       "      <td>Structure, bonding and molecular vibrations</td>\n",
       "      <td>The symmetry of a carbon dioxide molecule is l...</td>\n",
       "      <td>5906</td>\n",
       "      <td>2023-09-25T06:26:03Z</td>\n",
       "    </tr>\n",
       "    <tr>\n",
       "      <th>2</th>\n",
       "      <td>https://en.wikipedia.org/wiki/Carbon_dioxide</td>\n",
       "      <td>Carbon dioxide</td>\n",
       "      <td>2023-09-25T06:26:03Z</td>\n",
       "      <td>Chemical and physical properties</td>\n",
       "      <td>In aqueous solution</td>\n",
       "      <td>Carbon dioxide is soluble in water, in which i...</td>\n",
       "      <td>5906</td>\n",
       "      <td>2023-09-25T06:26:03Z</td>\n",
       "    </tr>\n",
       "    <tr>\n",
       "      <th>3</th>\n",
       "      <td>https://en.wikipedia.org/wiki/Carbon_dioxide</td>\n",
       "      <td>Carbon dioxide</td>\n",
       "      <td>2023-09-25T06:26:03Z</td>\n",
       "      <td>Chemical and physical properties</td>\n",
       "      <td>Chemical reactions of CO2</td>\n",
       "      <td>CO2 is a potent electrophile having an electro...</td>\n",
       "      <td>5906</td>\n",
       "      <td>2023-09-25T06:26:03Z</td>\n",
       "    </tr>\n",
       "    <tr>\n",
       "      <th>4</th>\n",
       "      <td>https://en.wikipedia.org/wiki/Carbon_dioxide</td>\n",
       "      <td>Carbon dioxide</td>\n",
       "      <td>2023-09-25T06:26:03Z</td>\n",
       "      <td>Chemical and physical properties</td>\n",
       "      <td>Physical properties</td>\n",
       "      <td>Carbon dioxide is colorless. At low concentrat...</td>\n",
       "      <td>5906</td>\n",
       "      <td>2023-09-25T06:26:03Z</td>\n",
       "    </tr>\n",
       "  </tbody>\n",
       "</table>\n",
       "</div>"
      ],
      "text/plain": [
       "                                        PageURL           Title  \\\n",
       "0  https://en.wikipedia.org/wiki/Carbon_dioxide  Carbon dioxide   \n",
       "1  https://en.wikipedia.org/wiki/Carbon_dioxide  Carbon dioxide   \n",
       "2  https://en.wikipedia.org/wiki/Carbon_dioxide  Carbon dioxide   \n",
       "3  https://en.wikipedia.org/wiki/Carbon_dioxide  Carbon dioxide   \n",
       "4  https://en.wikipedia.org/wiki/Carbon_dioxide  Carbon dioxide   \n",
       "\n",
       "           CreationDate                             Seccion  \\\n",
       "0  2023-09-25T06:26:03Z                                 NaN   \n",
       "1  2023-09-25T06:26:03Z   Chemical and physical properties    \n",
       "2  2023-09-25T06:26:03Z   Chemical and physical properties    \n",
       "3  2023-09-25T06:26:03Z   Chemical and physical properties    \n",
       "4  2023-09-25T06:26:03Z   Chemical and physical properties    \n",
       "\n",
       "                                      Subseccion  \\\n",
       "0                                            NaN   \n",
       "1   Structure, bonding and molecular vibrations    \n",
       "2                           In aqueous solution    \n",
       "3                     Chemical reactions of CO2    \n",
       "4                           Physical properties    \n",
       "\n",
       "                                           Contenido  WikipageID  \\\n",
       "0  Carbon dioxide is a chemical compound with the...        5906   \n",
       "1  The symmetry of a carbon dioxide molecule is l...        5906   \n",
       "2  Carbon dioxide is soluble in water, in which i...        5906   \n",
       "3  CO2 is a potent electrophile having an electro...        5906   \n",
       "4  Carbon dioxide is colorless. At low concentrat...        5906   \n",
       "\n",
       "           LastModified  \n",
       "0  2023-09-25T06:26:03Z  \n",
       "1  2023-09-25T06:26:03Z  \n",
       "2  2023-09-25T06:26:03Z  \n",
       "3  2023-09-25T06:26:03Z  \n",
       "4  2023-09-25T06:26:03Z  "
      ]
     },
     "execution_count": 3,
     "metadata": {},
     "output_type": "execute_result"
    }
   ],
   "source": [
    "# Specify the file path to your CSV file\n",
    "file_path = \"dominio3Test.csv\"\n",
    "\n",
    "# Read the CSV file into a DataFrame\n",
    "df = pd.read_csv(file_path)\n",
    "\n",
    "# Display the DataFrame\n",
    "df.head()"
   ]
  },
  {
   "cell_type": "code",
   "execution_count": 4,
   "metadata": {},
   "outputs": [
    {
     "data": {
      "text/html": [
       "<div>\n",
       "<style scoped>\n",
       "    .dataframe tbody tr th:only-of-type {\n",
       "        vertical-align: middle;\n",
       "    }\n",
       "\n",
       "    .dataframe tbody tr th {\n",
       "        vertical-align: top;\n",
       "    }\n",
       "\n",
       "    .dataframe thead th {\n",
       "        text-align: right;\n",
       "    }\n",
       "</style>\n",
       "<table border=\"1\" class=\"dataframe\">\n",
       "  <thead>\n",
       "    <tr style=\"text-align: right;\">\n",
       "      <th></th>\n",
       "      <th>PageURL</th>\n",
       "      <th>Title</th>\n",
       "      <th>CreationDate</th>\n",
       "      <th>Seccion</th>\n",
       "      <th>Subseccion</th>\n",
       "      <th>Contenido</th>\n",
       "      <th>WikipageID</th>\n",
       "      <th>LastModified</th>\n",
       "    </tr>\n",
       "  </thead>\n",
       "  <tbody>\n",
       "    <tr>\n",
       "      <th>0</th>\n",
       "      <td>https://en.wikipedia.org/wiki/Carbon_dioxide</td>\n",
       "      <td>Carbon dioxide</td>\n",
       "      <td>2023-09-25T06:26:03Z</td>\n",
       "      <td>NaN</td>\n",
       "      <td>NaN</td>\n",
       "      <td>Carbon dioxide is a chemical compound with the...</td>\n",
       "      <td>5906</td>\n",
       "      <td>2023-09-25T06:26:03Z</td>\n",
       "    </tr>\n",
       "    <tr>\n",
       "      <th>1</th>\n",
       "      <td>https://en.wikipedia.org/wiki/Carbon_dioxide</td>\n",
       "      <td>Carbon dioxide</td>\n",
       "      <td>2023-09-25T06:26:03Z</td>\n",
       "      <td>Chemical and physical properties</td>\n",
       "      <td>Structure, bonding and molecular vibrations</td>\n",
       "      <td>The symmetry of a carbon dioxide molecule is l...</td>\n",
       "      <td>5906</td>\n",
       "      <td>2023-09-25T06:26:03Z</td>\n",
       "    </tr>\n",
       "    <tr>\n",
       "      <th>2</th>\n",
       "      <td>https://en.wikipedia.org/wiki/Carbon_dioxide</td>\n",
       "      <td>Carbon dioxide</td>\n",
       "      <td>2023-09-25T06:26:03Z</td>\n",
       "      <td>Chemical and physical properties</td>\n",
       "      <td>In aqueous solution</td>\n",
       "      <td>Carbon dioxide is soluble in water, in which i...</td>\n",
       "      <td>5906</td>\n",
       "      <td>2023-09-25T06:26:03Z</td>\n",
       "    </tr>\n",
       "  </tbody>\n",
       "</table>\n",
       "</div>"
      ],
      "text/plain": [
       "                                        PageURL           Title  \\\n",
       "0  https://en.wikipedia.org/wiki/Carbon_dioxide  Carbon dioxide   \n",
       "1  https://en.wikipedia.org/wiki/Carbon_dioxide  Carbon dioxide   \n",
       "2  https://en.wikipedia.org/wiki/Carbon_dioxide  Carbon dioxide   \n",
       "\n",
       "           CreationDate                             Seccion  \\\n",
       "0  2023-09-25T06:26:03Z                                 NaN   \n",
       "1  2023-09-25T06:26:03Z   Chemical and physical properties    \n",
       "2  2023-09-25T06:26:03Z   Chemical and physical properties    \n",
       "\n",
       "                                      Subseccion  \\\n",
       "0                                            NaN   \n",
       "1   Structure, bonding and molecular vibrations    \n",
       "2                           In aqueous solution    \n",
       "\n",
       "                                           Contenido  WikipageID  \\\n",
       "0  Carbon dioxide is a chemical compound with the...        5906   \n",
       "1  The symmetry of a carbon dioxide molecule is l...        5906   \n",
       "2  Carbon dioxide is soluble in water, in which i...        5906   \n",
       "\n",
       "           LastModified  \n",
       "0  2023-09-25T06:26:03Z  \n",
       "1  2023-09-25T06:26:03Z  \n",
       "2  2023-09-25T06:26:03Z  "
      ]
     },
     "execution_count": 4,
     "metadata": {},
     "output_type": "execute_result"
    }
   ],
   "source": [
    "# Extraer las primeras 'numero_de_filas_a_extraer' filas y almacenarlas en un nuevo DataFrame\n",
    "df_test = df.head(3)\n",
    "\n",
    "df_test"
   ]
  },
  {
   "cell_type": "code",
   "execution_count": 25,
   "metadata": {},
   "outputs": [
    {
     "data": {
      "text/plain": [
       "2009"
      ]
     },
     "execution_count": 25,
     "metadata": {},
     "output_type": "execute_result"
    }
   ],
   "source": [
    "import io\n",
    "\n",
    "# Specify the row and column you want to extract\n",
    "row_index = 1  # Index of the row (e.g., 2 for 'Charlie')\n",
    "column_name = 'Contenido'  # Name of the column\n",
    "\n",
    "\n",
    "# Extract the cell content\n",
    "cell_content = df_test.at[row_index, column_name]\n",
    "\n",
    "# Create an in-memory file\n",
    "memory_file = io.StringIO()\n",
    "\n",
    "# Write text to the file\n",
    "memory_file.write(cell_content)\n",
    "\n",
    "# Get the contents of the file\n",
    "# file_contents = memory_file.getvalue()\n",
    "\n",
    "# Close the in-memory file (optional, but good practice)\n",
    "# memory_file.close()\n",
    "\n",
    "# Print the contents\n",
    "#print(file_contents)"
   ]
  },
  {
   "cell_type": "code",
   "execution_count": 31,
   "metadata": {},
   "outputs": [
    {
     "name": "stdout",
     "output_type": "stream",
     "text": [
      "El archivo haystack-division/ContenidoCelda.txt se ha creado y el contenido se ha almacenado correctamente.\n"
     ]
    }
   ],
   "source": [
    "import pandas as pd\n",
    "\n",
    "# Especifica el índice de fila y la columna que deseas extraer\n",
    "fila = 1  # Por ejemplo, extraeremos la fila 2 (índice 2)\n",
    "columna = 'Contenido'\n",
    "\n",
    "# Almacenar el contenido de la celda en una variable\n",
    "contenido = df_test.at[fila, columna]\n",
    "\n",
    "# Crear el archivo TXT y escribir el contenido\n",
    "nombre_archivo = \"haystack-division/ContenidoCelda.txt\"\n",
    "with open(nombre_archivo, 'w', encoding='UTF-8') as archivo:\n",
    "    archivo.write(contenido)\n",
    "\n",
    "print(f\"El archivo {nombre_archivo} se ha creado y el contenido se ha almacenado correctamente.\")\n",
    "\n"
   ]
  },
  {
   "cell_type": "code",
   "execution_count": 30,
   "metadata": {},
   "outputs": [
    {
     "name": "stdout",
     "output_type": "stream",
     "text": [
      "El contenido del archivo haystack-division/ContenidoCelda.txt se ha borrado correctamente.\n"
     ]
    }
   ],
   "source": [
    "\n",
    "# Borrar el contenido del archivo (dejar el archivo vacío)\n",
    "with open(nombre_archivo, 'w') as archivo:\n",
    "    archivo.write(\"\")\n",
    "\n",
    "print(f\"El contenido del archivo {nombre_archivo} se ha borrado correctamente.\")"
   ]
  },
  {
   "cell_type": "code",
   "execution_count": 38,
   "metadata": {},
   "outputs": [],
   "source": [
    "from haystack.nodes import TextConverter, PDFToTextConverter, DocxToTextConverter, PreProcessor\n",
    "converter = TextConverter(remove_numeric_tables=True, valid_languages=[\"en\"])\n",
    "doc_txt = converter.convert(file_path=\"haystack-division\\ContenidoCelda.txt\", meta=None)[0]"
   ]
  },
  {
   "cell_type": "code",
   "execution_count": 33,
   "metadata": {},
   "outputs": [
    {
     "name": "stderr",
     "output_type": "stream",
     "text": [
      "INFO - haystack.utils.preprocessing -  Converting haystack-division\\ContenidoCelda.txt\n"
     ]
    }
   ],
   "source": [
    "from haystack.utils import convert_files_to_docs\n",
    "\n",
    "doc_dir = 'haystack-division'\n",
    "\n",
    "all_docs = convert_files_to_docs(dir_path=doc_dir)"
   ]
  },
  {
   "cell_type": "code",
   "execution_count": 39,
   "metadata": {},
   "outputs": [],
   "source": [
    "from haystack.nodes import PreProcessor\n",
    "\n",
    "\n",
    "# This is a default usage of the PreProcessor.\n",
    "# Here, it performs cleaning of consecutive whitespaces\n",
    "# and splits a single large document into smaller documents.\n",
    "# Each document is up to 1000 words long and document breaks cannot fall in the middle of sentences\n",
    "# Note how the single document passed into the document gets split into 5 smaller documents\n",
    "\n",
    "preprocessor = PreProcessor(\n",
    "\n",
    "    clean_empty_lines=True,\n",
    "    clean_whitespace=True,\n",
    "    clean_header_footer=False,\n",
    "    split_by= \"sentence\",\n",
    "    split_length = 5,\n",
    "    split_respect_sentence_boundary=False\n",
    "\n",
    ")\n"
   ]
  },
  {
   "cell_type": "code",
   "execution_count": 41,
   "metadata": {},
   "outputs": [
    {
     "name": "stderr",
     "output_type": "stream",
     "text": [
      "\n",
      "\n",
      "\n",
      "\n",
      "\n",
      "Preprocessing: 100%|██████████| 1/1 [00:00<00:00, 94.92docs/s]"
     ]
    },
    {
     "name": "stdout",
     "output_type": "stream",
     "text": [
      "n_docs_input: 1\n",
      "n_docs_output: 3\n"
     ]
    },
    {
     "name": "stderr",
     "output_type": "stream",
     "text": [
      "\n"
     ]
    }
   ],
   "source": [
    "docs_default = preprocessor.process([doc_txt])\n",
    "print(f\"n_docs_input: 1\\nn_docs_output: {len(docs_default)}\")"
   ]
  },
  {
   "cell_type": "code",
   "execution_count": 42,
   "metadata": {},
   "outputs": [
    {
     "name": "stdout",
     "output_type": "stream",
     "text": [
      "[<Document: {'content': 'The symmetry of a carbon dioxide molecule is linear and centrosymmetric at its equilibrium geometry. The length of the carbon-oxygen bond in carbon dioxide is 116.3 pm, noticeably shorter than the roughly 140-pm length of a typical single C–O bond, and shorter than most other C–O multiply bonded functional groups such as carbonyls. Since it is centrosymmetric, the molecule has no electric dipole moment. As a linear triatomic molecule, CO2 has four vibrational modes as shown in the diagram. In the symmetric and the antisymmetric stretching modes, the atoms move along the axis of the molecule. ', 'content_type': 'text', 'score': None, 'meta': {'_split_id': 0}, 'id_hash_keys': ['content'], 'embedding': None, 'id': '7d4e9570ea7aa7e35e23d6f9ba666240'}>, <Document: {'content': 'There are two bending modes, which are degenerate, meaning that they have the same frequency and same energy, because of the symmetry of the molecule. When a molecule touches a surface or touches another molecule, the two bending modes can differ in frequency because the interaction is different for the two modes. Some of the vibrational modes are observed in the infrared (IR) spectrum: the antisymmetric stretching mode at wavenumber 2349 cm−1 (wavelength 4.25 μm) and the degenerate pair of bending modes at 667 cm−1 (wavelength 15 μm). The symmetric stretching mode does not create an electric dipole so is not observed in IR spectroscopy, but it is detected in by Raman spectroscopy at 1388 cm−1 (wavelength 7.2 μm).In the gas phase, carbon dioxide molecules undergo significant vibrational motions and do not keep a fixed structure. However, in a Coulomb explosion imaging experiment, an instantaneous image of the molecular structure can be deduced. ', 'content_type': 'text', 'score': None, 'meta': {'_split_id': 1}, 'id_hash_keys': ['content'], 'embedding': None, 'id': 'ae3c7e41c9709777c572a6ed443b9e0c'}>, <Document: {'content': 'Such an experiment has been performed for carbon dioxide. The result of this experiment, and the conclusion of theoretical calculations based on an ab initio potential energy surface of the molecule, is that none of the molecules in the gas phase are ever exactly linear. This counter-intuitive result is trivially due to the fact that the nuclear motion volume element vanishes for linear geometries. This is so for all molecules (except diatomics!).', 'content_type': 'text', 'score': None, 'meta': {'_split_id': 2}, 'id_hash_keys': ['content'], 'embedding': None, 'id': '6ff5d2b063d8e40811876909dda5100f'}>]\n"
     ]
    }
   ],
   "source": [
    "print(docs_default)"
   ]
  },
  {
   "cell_type": "code",
   "execution_count": null,
   "metadata": {},
   "outputs": [],
   "source": []
  }
 ],
 "metadata": {
  "kernelspec": {
   "display_name": "Python 3",
   "language": "python",
   "name": "python3"
  },
  "language_info": {
   "codemirror_mode": {
    "name": "ipython",
    "version": 3
   },
   "file_extension": ".py",
   "mimetype": "text/x-python",
   "name": "python",
   "nbconvert_exporter": "python",
   "pygments_lexer": "ipython3",
   "version": "3.11.4"
  },
  "orig_nbformat": 4
 },
 "nbformat": 4,
 "nbformat_minor": 2
}
