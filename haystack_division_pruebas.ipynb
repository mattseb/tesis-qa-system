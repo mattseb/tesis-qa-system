{
 "cells": [
  {
   "cell_type": "code",
   "execution_count": 2,
   "metadata": {},
   "outputs": [],
   "source": [
    "from haystack.telemetry import tutorial_running\n",
    "from haystack.nodes import TextConverter, PDFToTextConverter, DocxToTextConverter, PreProcessor\n",
    "import logging\n",
    "from haystack.nodes import PreProcessor\n",
    "from langdetect import detect\n",
    "import nltk\n",
    "import pandas as pd\n",
    "\n"
   ]
  },
  {
   "cell_type": "code",
   "execution_count": 3,
   "metadata": {},
   "outputs": [],
   "source": [
    "# Logs\n",
    "logging.basicConfig(format=\"%(levelname)s - %(name)s -  %(message)s\", level=logging.WARNING)\n",
    "logging.getLogger(\"haystack\").setLevel(logging.INFO)"
   ]
  },
  {
   "cell_type": "code",
   "execution_count": 5,
   "metadata": {},
   "outputs": [
    {
     "data": {
      "text/html": [
       "<div>\n",
       "<style scoped>\n",
       "    .dataframe tbody tr th:only-of-type {\n",
       "        vertical-align: middle;\n",
       "    }\n",
       "\n",
       "    .dataframe tbody tr th {\n",
       "        vertical-align: top;\n",
       "    }\n",
       "\n",
       "    .dataframe thead th {\n",
       "        text-align: right;\n",
       "    }\n",
       "</style>\n",
       "<table border=\"1\" class=\"dataframe\">\n",
       "  <thead>\n",
       "    <tr style=\"text-align: right;\">\n",
       "      <th></th>\n",
       "      <th>PageURL</th>\n",
       "      <th>Title</th>\n",
       "      <th>CreationDate</th>\n",
       "      <th>Seccion</th>\n",
       "      <th>Subseccion</th>\n",
       "      <th>Contenido</th>\n",
       "      <th>WikipageID</th>\n",
       "      <th>LastModified</th>\n",
       "    </tr>\n",
       "  </thead>\n",
       "  <tbody>\n",
       "    <tr>\n",
       "      <th>0</th>\n",
       "      <td>https://en.wikipedia.org/wiki/Carbon_dioxide</td>\n",
       "      <td>Carbon dioxide</td>\n",
       "      <td>2023-09-25T06:26:03Z</td>\n",
       "      <td>NaN</td>\n",
       "      <td>NaN</td>\n",
       "      <td>Carbon dioxide is a chemical compound with the...</td>\n",
       "      <td>5906</td>\n",
       "      <td>2023-09-25T06:26:03Z</td>\n",
       "    </tr>\n",
       "    <tr>\n",
       "      <th>1</th>\n",
       "      <td>https://en.wikipedia.org/wiki/Carbon_dioxide</td>\n",
       "      <td>Carbon dioxide</td>\n",
       "      <td>2023-09-25T06:26:03Z</td>\n",
       "      <td>Chemical and physical properties</td>\n",
       "      <td>Structure, bonding and molecular vibrations</td>\n",
       "      <td>The symmetry of a carbon dioxide molecule is l...</td>\n",
       "      <td>5906</td>\n",
       "      <td>2023-09-25T06:26:03Z</td>\n",
       "    </tr>\n",
       "    <tr>\n",
       "      <th>2</th>\n",
       "      <td>https://en.wikipedia.org/wiki/Carbon_dioxide</td>\n",
       "      <td>Carbon dioxide</td>\n",
       "      <td>2023-09-25T06:26:03Z</td>\n",
       "      <td>Chemical and physical properties</td>\n",
       "      <td>In aqueous solution</td>\n",
       "      <td>Carbon dioxide is soluble in water, in which i...</td>\n",
       "      <td>5906</td>\n",
       "      <td>2023-09-25T06:26:03Z</td>\n",
       "    </tr>\n",
       "    <tr>\n",
       "      <th>3</th>\n",
       "      <td>https://en.wikipedia.org/wiki/Carbon_dioxide</td>\n",
       "      <td>Carbon dioxide</td>\n",
       "      <td>2023-09-25T06:26:03Z</td>\n",
       "      <td>Chemical and physical properties</td>\n",
       "      <td>Chemical reactions of CO2</td>\n",
       "      <td>CO2 is a potent electrophile having an electro...</td>\n",
       "      <td>5906</td>\n",
       "      <td>2023-09-25T06:26:03Z</td>\n",
       "    </tr>\n",
       "    <tr>\n",
       "      <th>4</th>\n",
       "      <td>https://en.wikipedia.org/wiki/Carbon_dioxide</td>\n",
       "      <td>Carbon dioxide</td>\n",
       "      <td>2023-09-25T06:26:03Z</td>\n",
       "      <td>Chemical and physical properties</td>\n",
       "      <td>Physical properties</td>\n",
       "      <td>Carbon dioxide is colorless. At low concentrat...</td>\n",
       "      <td>5906</td>\n",
       "      <td>2023-09-25T06:26:03Z</td>\n",
       "    </tr>\n",
       "  </tbody>\n",
       "</table>\n",
       "</div>"
      ],
      "text/plain": [
       "                                        PageURL           Title  \\\n",
       "0  https://en.wikipedia.org/wiki/Carbon_dioxide  Carbon dioxide   \n",
       "1  https://en.wikipedia.org/wiki/Carbon_dioxide  Carbon dioxide   \n",
       "2  https://en.wikipedia.org/wiki/Carbon_dioxide  Carbon dioxide   \n",
       "3  https://en.wikipedia.org/wiki/Carbon_dioxide  Carbon dioxide   \n",
       "4  https://en.wikipedia.org/wiki/Carbon_dioxide  Carbon dioxide   \n",
       "\n",
       "           CreationDate                             Seccion  \\\n",
       "0  2023-09-25T06:26:03Z                                 NaN   \n",
       "1  2023-09-25T06:26:03Z   Chemical and physical properties    \n",
       "2  2023-09-25T06:26:03Z   Chemical and physical properties    \n",
       "3  2023-09-25T06:26:03Z   Chemical and physical properties    \n",
       "4  2023-09-25T06:26:03Z   Chemical and physical properties    \n",
       "\n",
       "                                      Subseccion  \\\n",
       "0                                            NaN   \n",
       "1   Structure, bonding and molecular vibrations    \n",
       "2                           In aqueous solution    \n",
       "3                     Chemical reactions of CO2    \n",
       "4                           Physical properties    \n",
       "\n",
       "                                           Contenido  WikipageID  \\\n",
       "0  Carbon dioxide is a chemical compound with the...        5906   \n",
       "1  The symmetry of a carbon dioxide molecule is l...        5906   \n",
       "2  Carbon dioxide is soluble in water, in which i...        5906   \n",
       "3  CO2 is a potent electrophile having an electro...        5906   \n",
       "4  Carbon dioxide is colorless. At low concentrat...        5906   \n",
       "\n",
       "           LastModified  \n",
       "0  2023-09-25T06:26:03Z  \n",
       "1  2023-09-25T06:26:03Z  \n",
       "2  2023-09-25T06:26:03Z  \n",
       "3  2023-09-25T06:26:03Z  \n",
       "4  2023-09-25T06:26:03Z  "
      ]
     },
     "execution_count": 5,
     "metadata": {},
     "output_type": "execute_result"
    }
   ],
   "source": [
    "# Specify the file path to your CSV file\n",
    "file_path = \"dominio3.csv\"\n",
    "\n",
    "# Read the CSV file into a DataFrame\n",
    "df = pd.read_csv(file_path)\n",
    "\n",
    "# Display the DataFrame\n",
    "df.head()"
   ]
  },
  {
   "cell_type": "code",
   "execution_count": 6,
   "metadata": {},
   "outputs": [
    {
     "data": {
      "text/html": [
       "<div>\n",
       "<style scoped>\n",
       "    .dataframe tbody tr th:only-of-type {\n",
       "        vertical-align: middle;\n",
       "    }\n",
       "\n",
       "    .dataframe tbody tr th {\n",
       "        vertical-align: top;\n",
       "    }\n",
       "\n",
       "    .dataframe thead th {\n",
       "        text-align: right;\n",
       "    }\n",
       "</style>\n",
       "<table border=\"1\" class=\"dataframe\">\n",
       "  <thead>\n",
       "    <tr style=\"text-align: right;\">\n",
       "      <th></th>\n",
       "      <th>PageURL</th>\n",
       "      <th>Title</th>\n",
       "      <th>CreationDate</th>\n",
       "      <th>Seccion</th>\n",
       "      <th>Subseccion</th>\n",
       "      <th>Contenido</th>\n",
       "      <th>WikipageID</th>\n",
       "      <th>LastModified</th>\n",
       "    </tr>\n",
       "  </thead>\n",
       "  <tbody>\n",
       "    <tr>\n",
       "      <th>0</th>\n",
       "      <td>https://en.wikipedia.org/wiki/Carbon_dioxide</td>\n",
       "      <td>Carbon dioxide</td>\n",
       "      <td>2023-09-25T06:26:03Z</td>\n",
       "      <td>NaN</td>\n",
       "      <td>NaN</td>\n",
       "      <td>Carbon dioxide is a chemical compound with the...</td>\n",
       "      <td>5906</td>\n",
       "      <td>2023-09-25T06:26:03Z</td>\n",
       "    </tr>\n",
       "    <tr>\n",
       "      <th>1</th>\n",
       "      <td>https://en.wikipedia.org/wiki/Carbon_dioxide</td>\n",
       "      <td>Carbon dioxide</td>\n",
       "      <td>2023-09-25T06:26:03Z</td>\n",
       "      <td>Chemical and physical properties</td>\n",
       "      <td>Structure, bonding and molecular vibrations</td>\n",
       "      <td>The symmetry of a carbon dioxide molecule is l...</td>\n",
       "      <td>5906</td>\n",
       "      <td>2023-09-25T06:26:03Z</td>\n",
       "    </tr>\n",
       "    <tr>\n",
       "      <th>2</th>\n",
       "      <td>https://en.wikipedia.org/wiki/Carbon_dioxide</td>\n",
       "      <td>Carbon dioxide</td>\n",
       "      <td>2023-09-25T06:26:03Z</td>\n",
       "      <td>Chemical and physical properties</td>\n",
       "      <td>In aqueous solution</td>\n",
       "      <td>Carbon dioxide is soluble in water, in which i...</td>\n",
       "      <td>5906</td>\n",
       "      <td>2023-09-25T06:26:03Z</td>\n",
       "    </tr>\n",
       "  </tbody>\n",
       "</table>\n",
       "</div>"
      ],
      "text/plain": [
       "                                        PageURL           Title  \\\n",
       "0  https://en.wikipedia.org/wiki/Carbon_dioxide  Carbon dioxide   \n",
       "1  https://en.wikipedia.org/wiki/Carbon_dioxide  Carbon dioxide   \n",
       "2  https://en.wikipedia.org/wiki/Carbon_dioxide  Carbon dioxide   \n",
       "\n",
       "           CreationDate                             Seccion  \\\n",
       "0  2023-09-25T06:26:03Z                                 NaN   \n",
       "1  2023-09-25T06:26:03Z   Chemical and physical properties    \n",
       "2  2023-09-25T06:26:03Z   Chemical and physical properties    \n",
       "\n",
       "                                      Subseccion  \\\n",
       "0                                            NaN   \n",
       "1   Structure, bonding and molecular vibrations    \n",
       "2                           In aqueous solution    \n",
       "\n",
       "                                           Contenido  WikipageID  \\\n",
       "0  Carbon dioxide is a chemical compound with the...        5906   \n",
       "1  The symmetry of a carbon dioxide molecule is l...        5906   \n",
       "2  Carbon dioxide is soluble in water, in which i...        5906   \n",
       "\n",
       "           LastModified  \n",
       "0  2023-09-25T06:26:03Z  \n",
       "1  2023-09-25T06:26:03Z  \n",
       "2  2023-09-25T06:26:03Z  "
      ]
     },
     "execution_count": 6,
     "metadata": {},
     "output_type": "execute_result"
    }
   ],
   "source": [
    "# Extraer las primeras 'numero_de_filas_a_extraer' filas y almacenarlas en un nuevo DataFrame\n",
    "df_test = df.head(3)\n",
    "\n",
    "df_test"
   ]
  },
  {
   "cell_type": "code",
   "execution_count": null,
   "metadata": {},
   "outputs": [],
   "source": [
    "# Nombre de la columna que deseas convertir a archivos TXT\n",
    "columna_a_convertir = 'Contenido'\n",
    "\n",
    "# Recorrer cada elemento de la columna y crear archivos TXT\n",
    "for indice, valor in enumerate(df_test[columna_a_convertir]):\n",
    "    # Crear el nombre del archivo TXT usando el valor del elemento\n",
    "    nombre_archivo = f\"{valor}.txt\"\n",
    "\n",
    "    # Crear y escribir en el archivo TXT\n",
    "    with open(nombre_archivo, 'w') as archivo:\n",
    "        archivo.write(f\"Nombre: {valor}\\n\")\n",
    "        archivo.write(f\"Edad: {df['Edades'][indice]}\\n\")\n",
    "\n",
    "    print(f\"Archivo {nombre_archivo} creado para {valor}\")\n",
    "\n",
    "# Verificación: Mostrar el contenido de los archivos TXT creados\n",
    "for valor in df[columna_a_convertir]:\n",
    "    nombre_archivo = f\"{valor}.txt\"\n",
    "    with open(nombre_archivo, 'r') as archivo:\n",
    "        contenido = archivo.read()\n",
    "        print(f\"Contenido de {nombre_archivo}:\\n{contenido}\\n\")"
   ]
  },
  {
   "cell_type": "code",
   "execution_count": 3,
   "metadata": {},
   "outputs": [],
   "source": [
    "# all_docs = convert_files_to_docs(dir_path=doc_dir)\n",
    "\n",
    "converter = TextConverter(remove_numeric_tables=True, valid_languages=[\"en\"])\n",
    "doc_txt = converter.convert(file_path=\"prueba.txt\", meta=None)[0]"
   ]
  },
  {
   "cell_type": "code",
   "execution_count": null,
   "metadata": {},
   "outputs": [],
   "source": []
  },
  {
   "cell_type": "code",
   "execution_count": 9,
   "metadata": {},
   "outputs": [],
   "source": [
    "from haystack.utils import convert_files_to_docs\n",
    "\n",
    "\n",
    "all_docs = convert_files_to_docs(dir_path='tesis-qa-system')"
   ]
  },
  {
   "cell_type": "code",
   "execution_count": 4,
   "metadata": {},
   "outputs": [
    {
     "name": "stderr",
     "output_type": "stream",
     "text": [
      "[nltk_data] Downloading package punkt to\n",
      "[nltk_data]     C:\\Users\\sotof\\AppData\\Roaming\\nltk_data...\n",
      "[nltk_data]   Unzipping tokenizers\\punkt.zip.\n",
      "Preprocessing: 100%|██████████| 1/1 [00:00<00:00, 66.56docs/s]"
     ]
    },
    {
     "name": "stdout",
     "output_type": "stream",
     "text": [
      "n_docs_input: 1\n",
      "n_docs_output: 2\n"
     ]
    },
    {
     "name": "stderr",
     "output_type": "stream",
     "text": [
      "\n"
     ]
    }
   ],
   "source": [
    "preprocessor = PreProcessor(\n",
    "    clean_empty_lines=True,\n",
    "    clean_whitespace=True,\n",
    "    clean_header_footer=False,\n",
    "    split_by=\"word\",\n",
    "    split_length=100,\n",
    "    split_respect_sentence_boundary=True,\n",
    ")\n",
    "\n",
    "docs_default = preprocessor.process([doc_txt])\n",
    "print(f\"n_docs_input: 1\\nn_docs_output: {len(docs_default)}\")\n"
   ]
  },
  {
   "cell_type": "code",
   "execution_count": 5,
   "metadata": {},
   "outputs": [
    {
     "name": "stderr",
     "output_type": "stream",
     "text": [
      "Preprocessing: 100%|██████████| 1/1 [00:00<00:00, 663.13docs/s]"
     ]
    },
    {
     "name": "stdout",
     "output_type": "stream",
     "text": [
      "RESPECTING SENTENCE BOUNDARY\n",
      "End of document: \"..., is included as an eligible practice under EQIP. \"\n",
      "\n",
      "NOT RESPECTING SENTENCE BOUNDARY\n",
      "End of document: \"...EQIP funding is reserved for livestock operations.\"\n"
     ]
    },
    {
     "name": "stderr",
     "output_type": "stream",
     "text": [
      "\n"
     ]
    }
   ],
   "source": [
    "# Not respecting sentence boundary vs respecting sentence boundary\n",
    "\n",
    "preprocessor_nrsb = PreProcessor(split_respect_sentence_boundary=False)\n",
    "docs_nrsb = preprocessor_nrsb.process([doc_txt])\n",
    "\n",
    "print(\"RESPECTING SENTENCE BOUNDARY\")\n",
    "end_text = docs_default[0].content[-50:]\n",
    "print('End of document: \"...' + end_text + '\"')\n",
    "print()\n",
    "print(\"NOT RESPECTING SENTENCE BOUNDARY\")\n",
    "end_text_nrsb = docs_nrsb[0].content[-50:]\n",
    "print('End of document: \"...' + end_text_nrsb + '\"')"
   ]
  },
  {
   "cell_type": "code",
   "execution_count": 6,
   "metadata": {},
   "outputs": [
    {
     "name": "stderr",
     "output_type": "stream",
     "text": [
      "Preprocessing: 100%|██████████| 1/1 [00:00<00:00, 500.39docs/s]"
     ]
    },
    {
     "name": "stdout",
     "output_type": "stream",
     "text": [
      "Document 1: \"The EQIP covers up to 75 percent of costs incurred...\"\n",
      "Document 2: \"of costs incurred and 100 percent of income foregone for...\"\n",
      "Document 3: \"income foregone for implementing eligible conservation practices for awardees. There...\"\n"
     ]
    },
    {
     "name": "stderr",
     "output_type": "stream",
     "text": [
      "\n"
     ]
    }
   ],
   "source": [
    "# Sliding window approach\n",
    "\n",
    "preprocessor_sliding_window = PreProcessor(split_overlap=3, split_length=10, split_respect_sentence_boundary=False)\n",
    "docs_sliding_window = preprocessor_sliding_window.process([doc_txt])\n",
    "\n",
    "doc1 = docs_sliding_window[0].content[:200]\n",
    "doc2 = docs_sliding_window[1].content[:100]\n",
    "doc3 = docs_sliding_window[2].content[:100]\n",
    "\n",
    "print('Document 1: \"' + doc1 + '...\"')\n",
    "print('Document 2: \"' + doc2 + '...\"')\n",
    "print('Document 3: \"' + doc3 + '...\"')"
   ]
  },
  {
   "cell_type": "code",
   "execution_count": 11,
   "metadata": {},
   "outputs": [
    {
     "name": "stderr",
     "output_type": "stream",
     "text": [
      "Preprocessing: 0docs [00:00, ?docs/s]"
     ]
    },
    {
     "name": "stdout",
     "output_type": "stream",
     "text": [
      "n_files_input: 0\n",
      "n_docs_output: 0\n"
     ]
    },
    {
     "name": "stderr",
     "output_type": "stream",
     "text": [
      "\n"
     ]
    }
   ],
   "source": [
    "all_docs = convert_files_to_docs(dir_path='tesis-qa-system')\n",
    "preprocessor = PreProcessor(\n",
    "    clean_empty_lines=True,\n",
    "    clean_whitespace=True,\n",
    "    clean_header_footer=False,\n",
    "    split_by=\"word\",\n",
    "    split_length=100,\n",
    "    split_respect_sentence_boundary=True,\n",
    ")\n",
    "docs = preprocessor.process(all_docs)\n",
    "\n",
    "print(f\"n_files_input: {len(all_docs)}\\nn_docs_output: {len(docs)}\")"
   ]
  }
 ],
 "metadata": {
  "kernelspec": {
   "display_name": "Python 3",
   "language": "python",
   "name": "python3"
  },
  "language_info": {
   "codemirror_mode": {
    "name": "ipython",
    "version": 3
   },
   "file_extension": ".py",
   "mimetype": "text/x-python",
   "name": "python",
   "nbconvert_exporter": "python",
   "pygments_lexer": "ipython3",
   "version": "3.11.4"
  },
  "orig_nbformat": 4
 },
 "nbformat": 4,
 "nbformat_minor": 2
}
