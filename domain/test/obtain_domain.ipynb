{
 "cells": [
  {
   "cell_type": "code",
   "execution_count": 5,
   "metadata": {},
   "outputs": [],
   "source": [
    "import wikipedia\n",
    "import json\n",
    "import requests"
   ]
  },
  {
   "cell_type": "code",
   "execution_count": 15,
   "metadata": {},
   "outputs": [],
   "source": [
    "def get_page_sections(page_id, language='en'):\n",
    "    try:\n",
    "        page = wikipedia.page(pageid=page_id, auto_suggest=False)\n",
    "        title = page.title\n",
    "        page_url = page.url\n",
    "        wikipageid = page.pageid\n",
    "        page_id = wikipageid\n",
    "\n",
    "        # Fetch the revision history using the Wikipedia API\n",
    "        url = f\"https://en.wikipedia.org/w/api.php?action=query&prop=revisions&rvprop=timestamp&format=json&pageids={page_id}\"\n",
    "        response = requests.get(url)\n",
    "        data = json.loads(response.text)\n",
    "\n",
    "        # Extract the timestamp of the latest revision\n",
    "        latest_rev = data['query']['pages'][str(page_id)]['revisions'][0]\n",
    "        creation_rev = data['query']['pages'][str(page_id)]['revisions'][-1]\n",
    "        creation_date = creation_rev['timestamp']\n",
    "        last_modified = latest_rev['timestamp']\n",
    "    except:\n",
    "        sections = []\n",
    "        return sections\n",
    "\n",
    "    wikipedia.set_lang(language)\n",
    "    content = page.content.split('\\n')\n",
    "    print(content)\n",
    "\n",
    "    sections = []\n",
    "    current_section = None\n",
    "    sub_section = None\n",
    "    exclude_sections = [\" See also \", \" References \", \" External links \"]\n",
    "    filter_content = [element for element in content if element != '']\n",
    "    for line in filter_content:\n",
    "        if(line != ''):\n",
    "            line = line.strip()\n",
    "        else:\n",
    "            continue\n",
    "        if line.startswith(\"=== \") and line.endswith(\" ===\") and line not in exclude_sections:\n",
    "            sub_section = line.strip(\"=\")\n",
    "            # sections.append((page_url, title, creation_date, current_section, sub_section, '', wikipageid, last_modified))\n",
    "        elif line.startswith(\"== \") and line.endswith(\" ==\"):\n",
    "            section = line.strip(\"=\")\n",
    "            current_section = section\n",
    "        else:\n",
    "            if current_section not in exclude_sections:\n",
    "                if sections:\n",
    "                    if sections[-1][4] == sub_section and sections[-1][3] == current_section:\n",
    "                        sections[-1] = (page_url, title, creation_date, sections[-1][3], sections[-1][4], sections[-1][5] + \" \" + line, wikipageid, last_modified)\n",
    "                    else:\n",
    "                        sections.append((page_url, title, creation_date, current_section, sub_section, line, wikipageid, last_modified))\n",
    "                else:\n",
    "                    sections.append((page_url, title, creation_date, current_section, sub_section, line, wikipageid, last_modified))\n",
    "            elif current_section == None:\n",
    "                sections.append((page_url, title, creation_date, None, None, line, wikipageid, last_modified))            \n",
    "    return sections"
   ]
  },
  {
   "cell_type": "code",
   "execution_count": 16,
   "metadata": {},
   "outputs": [
    {
     "name": "stdout",
     "output_type": "stream",
     "text": [
      "['Handbook Emission Factors for Road Transport (HBEFA) is a Microsoft Access database application providing emission factors, i.e. the specific emissions in g/km, for all current road vehicle categories (passenger cars, light duty vehicles, heavy duty vehicles, buses, and motorcycles). Emission factors are provided for all regulated and the most important non-regulated air pollutants as well as for fuel consumption and CO2. HBEFA is used to estimate road transport emissions on different spatial aggregation levels from national to street level.', 'HBEFA was originally developed on behalf of the Environmental Protection Agencies of Germany (UBA), Switzerland (FOEN/BAFU), and Austria (Umweltbundesamt). In the meantime, further countries (Sweden, Norway, France) and the JRC (Joint Research Centre of the European Commission) are supporting HBEFA. The handbook is developed and provided by INFRAS, a Swiss research institute and independent consulting group based in Zurich and Bern.', 'HBEFA (the so-called “public version”) is available for download for everyone (chargeable at a fee of 250 EUR for new users). This public version allows users to view emission factors at different disaggregation levels. For selected experts participating in the development of HBEFA an extended version with additional features (referred to as “expert version”) is available.', '', '', '== Methodology ==', 'HBEFA consists of four sub-modules: ', '', 'The emission factor database (expert version only) containing the base emission factors from various sources (such as vehicle emission measurements, emission factor models, etc.)', 'The fleet model (expert version only) providing weighting factors for the base emission factors in order to produce fleet compositions for a particular location (e.g. a country or a city) and a particular time period (one or more years).', 'The emission factor module (public and expert version) allowing access to the emission factor database by calculating weighted emission factors for particular traffic situations for a particular area and time period using the specified fleet compositions provided by the fleet model.', 'The emission model (expert version only) for the computation of overall emissions either on an aggregated spatial level for a particular area (e.g. a country or a city) or for a specific road network (“linkwise”). Inputs to the emission model are the description of the traffic activity (typically the vehicle kilometres travelled or the vehicle volume per road link) per vehicle category and the emission factors from the emission factor module. By multiplying these inputs the overall emissions are calculated.The emission factors in HBEFA are based on multi-national measurement campaigns financed by the Environmental Protection Agencies of Germany, Switzerland and Austria, the Swedish Transport Administration, the Norwegian Environment Agency and the French Environment and Energy Management Agency as well as the Joint Research Centre (Research Centre of the European Commission). Programmes include roller bench measurements of vehicle emissions across all vehicle categories, size classes and emission stages. Furthermore, extensive analyses of driving behaviour are carried out. The country specific weighing of emission factors are based on extensive analyses of statistical base data (such as transport surveys, vehicle registration data, etc.).', '', '', '== Features ==', 'HBEFA computes the selected emission factors either as weighted emission factors per vehicle category, per emission stage (e.g. EURO-5-passenger cars, etc.), per fuel type (gasoline, diesel, alternatives) or per sub-segment (= vehicle category/size class/emission stage, such as passenger cars with engine size <1.4 l EURO-3, etc.) and per traffic situation.', 'Results (emission factors) can be pre-viewed as a query and then be exported to Excel or directly to an MS Access data base for further processing.', 'The HBEFA provides emission factors per traffic activity (i.e. in grammes per vehicle kilometre). Different levels of disaggregation are offered:', '', '', '=== Type of emission ===', 'There are several different types of emissions:', '', '', '==== “Hot” emissions ====', 'Emissions in g/vehicle-km occurring from vehicles with engines at operating temperature given for several traffic situations which have been adapted to the scheme developed in the ARTEMIS project (“Assessment and Reliability of Transport Emission Models and Inventory Systems”; an environmental project of the European Union). Differentiated factors are provided for different gradient classes (0%, 2%, 4%, 6%). Also weighted average values (distributions over several traffic situations and gradient classes) are provided.', '', '', '==== Cold start excess emissions ====', 'Emissions (in g/start) accounting for the elevated emission level when starting a cold engine (for passenger cars and light commercial vehicles only). Excess emissions are given as a difference between the total emissions after the engine start (at ambient conditions) and the emission at operating temperature. The factors are available for typical, country-specific temperature distributions and behavioural parameters (such as trip length distributions and parking time distributions).', '', '', '==== Evaporative emissions ====', 'For petrol vehicles only (hydrocarbon emissions for diesel vehicles are negligible), consisting of: ', '', 'soaking emissions (in g/vehicle) due to contraction and expenditure of fuel due to diurnally changing ambient temperatures', 'evaporation on parking the hot or warm vehicle (in g/stop)', 'running losses due to evaporation during operation of the vehicle (g/vehicle-km)', '', '', '=== Vehicle category ===', 'HBEFA provides emission factors for passenger cars, light commercial vehicles, heavy duty vehicles (rigid and articulated trucks; truck and trailers), urban buses, coaches and motorcycles.', '', '', '=== Reference years ===', 'Emission factors are provided by reference year, i.e. by varying country specific fleet compositions both for past years and future projections. In the current version, emission factors for the years from 1990 to 2035 are available.', '', '', '=== Pollutants, greenhouse gases and fuel consumption ===', '', 'Factors for the following components are provided: CO, NOx, HC and several components of hydrocarbons (CH4, NMHC, benzene, toluene, xylene), fuel consumption (gasoline, diesel), CO2, NH3 and N2O, NO2, particle numbers (PN) and particle mass (PM).', '', '', '== Application ==', 'HBEFA is used in a wide range of applications, such as: ', '', 'National inventory reports of emissions and greenhouse gases directly (e.g. for Switzerland, Austria, Norway, Sweden, etc.) and indirectly via intermediate tools based on HBEFA emission factors such as COPERT or TREMOD.', 'Air quality modelling on regional and local level', 'Impact assessments', 'Projections and scenarios for estimating transport related emissions and energy consumption', 'Teaching', 'Applied research', '', '', '== History ==', 'HBEFA Version (1.1) was published in 1995. It provided data for Germany and Switzerland (and in 1998 Version “1.1A” included data for Austria as well).', 'The next version (1.2) was developed in 1999,', 'Version 2.1 was released in February 2004.', 'Version 3.1 dates from 30. January 2010 and provides (apart from generic emission factors) also average emission factors for Germany, Austria, Switzerland, Sweden and Norway.', 'Version 3.2 is an update to version 3.1 and is available since mid-2014.A stripped-down online version of HBEFA (available on www.hbefa.net) is intended for occasional users with primary interest in aggregate values.', '', '', '== Regional adaptations ==', '', '', '=== European countries ===', 'The base version of HBEFA (European version) is adapted to European traffic conditions (emission factors, fuel characteristics, traffic situations, etc.). It contains country specific data sets for Germany, Switzerland, Austria, France, Norway and Sweden. The methodological approach for these countries is identical. The European version is publicly available from www.hbefa.net.', '', '', '=== China ===', 'HBEFA (\"expert version\") has been adapted to China with support of the Deutsche Gesellschaft für Internationale Zusammenarbeit (GIZ) GmbH supported by the Bundesministerium für Umwelt, Naturschutz, Bau und Reaktorsicherheit (BMUB) Archived 2017-06-16 at the Wayback Machine, its partners at the Beijing Transportation Research Center (BTRC) Archived 2020-11-04 at the Wayback Machine and Shenzhen Urban Transport Planning Center (SUTPC), and INFRAS in 2014. In a joint approach the European handbook was adapted to Chinese traffic conditions using typical driving cycles from various Chinese cities.', 'As for Europe, the database provides emission factors differentiated by vehicle category, road type, and level of service (LOS) for road transport in Chinese cities. While focussing on CO2-emission factors in the present stages of the project, air pollutant emission factors are included as well. The latter are currently being further validated.', 'The Chinese adaptation is currently only available for participating Chinese cities and local experts.', '', '', '== See also ==', 'Emission inventory', 'Emission intensity', 'COPERT', '', '', '== References ==', '', '', '== External links ==', 'Official website']\n",
      "=== Type of emission ===\n",
      "[('https://en.wikipedia.org/wiki/Handbook_Emission_Factors_for_Road_Transport', 'Handbook Emission Factors for Road Transport', '2023-12-08T06:40:51Z', None, None, 'Handbook Emission Factors for Road Transport (HBEFA) is a Microsoft Access database application providing emission factors, i.e. the specific emissions in g/km, for all current road vehicle categories (passenger cars, light duty vehicles, heavy duty vehicles, buses, and motorcycles). Emission factors are provided for all regulated and the most important non-regulated air pollutants as well as for fuel consumption and CO2. HBEFA is used to estimate road transport emissions on different spatial aggregation levels from national to street level. HBEFA was originally developed on behalf of the Environmental Protection Agencies of Germany (UBA), Switzerland (FOEN/BAFU), and Austria (Umweltbundesamt). In the meantime, further countries (Sweden, Norway, France) and the JRC (Joint Research Centre of the European Commission) are supporting HBEFA. The handbook is developed and provided by INFRAS, a Swiss research institute and independent consulting group based in Zurich and Bern. HBEFA (the so-called “public version”) is available for download for everyone (chargeable at a fee of 250 EUR for new users). This public version allows users to view emission factors at different disaggregation levels. For selected experts participating in the development of HBEFA an extended version with additional features (referred to as “expert version”) is available.', '43778274', '2023-12-08T06:40:51Z'), ('https://en.wikipedia.org/wiki/Handbook_Emission_Factors_for_Road_Transport', 'Handbook Emission Factors for Road Transport', '2023-12-08T06:40:51Z', ' Methodology ', None, 'HBEFA consists of four sub-modules: The emission factor database (expert version only) containing the base emission factors from various sources (such as vehicle emission measurements, emission factor models, etc.) The fleet model (expert version only) providing weighting factors for the base emission factors in order to produce fleet compositions for a particular location (e.g. a country or a city) and a particular time period (one or more years). The emission factor module (public and expert version) allowing access to the emission factor database by calculating weighted emission factors for particular traffic situations for a particular area and time period using the specified fleet compositions provided by the fleet model. The emission model (expert version only) for the computation of overall emissions either on an aggregated spatial level for a particular area (e.g. a country or a city) or for a specific road network (“linkwise”). Inputs to the emission model are the description of the traffic activity (typically the vehicle kilometres travelled or the vehicle volume per road link) per vehicle category and the emission factors from the emission factor module. By multiplying these inputs the overall emissions are calculated.The emission factors in HBEFA are based on multi-national measurement campaigns financed by the Environmental Protection Agencies of Germany, Switzerland and Austria, the Swedish Transport Administration, the Norwegian Environment Agency and the French Environment and Energy Management Agency as well as the Joint Research Centre (Research Centre of the European Commission). Programmes include roller bench measurements of vehicle emissions across all vehicle categories, size classes and emission stages. Furthermore, extensive analyses of driving behaviour are carried out. The country specific weighing of emission factors are based on extensive analyses of statistical base data (such as transport surveys, vehicle registration data, etc.).', '43778274', '2023-12-08T06:40:51Z'), ('https://en.wikipedia.org/wiki/Handbook_Emission_Factors_for_Road_Transport', 'Handbook Emission Factors for Road Transport', '2023-12-08T06:40:51Z', ' Features ', None, 'HBEFA computes the selected emission factors either as weighted emission factors per vehicle category, per emission stage (e.g. EURO-5-passenger cars, etc.), per fuel type (gasoline, diesel, alternatives) or per sub-segment (= vehicle category/size class/emission stage, such as passenger cars with engine size <1.4 l EURO-3, etc.) and per traffic situation. Results (emission factors) can be pre-viewed as a query and then be exported to Excel or directly to an MS Access data base for further processing. The HBEFA provides emission factors per traffic activity (i.e. in grammes per vehicle kilometre). Different levels of disaggregation are offered:', '43778274', '2023-12-08T06:40:51Z'), ('https://en.wikipedia.org/wiki/Handbook_Emission_Factors_for_Road_Transport', 'Handbook Emission Factors for Road Transport', '2023-12-08T06:40:51Z', ' Features ', ' Type of emission ', 'There are several different types of emissions: ==== “Hot” emissions ==== Emissions in g/vehicle-km occurring from vehicles with engines at operating temperature given for several traffic situations which have been adapted to the scheme developed in the ARTEMIS project (“Assessment and Reliability of Transport Emission Models and Inventory Systems”; an environmental project of the European Union). Differentiated factors are provided for different gradient classes (0%, 2%, 4%, 6%). Also weighted average values (distributions over several traffic situations and gradient classes) are provided. ==== Cold start excess emissions ==== Emissions (in g/start) accounting for the elevated emission level when starting a cold engine (for passenger cars and light commercial vehicles only). Excess emissions are given as a difference between the total emissions after the engine start (at ambient conditions) and the emission at operating temperature. The factors are available for typical, country-specific temperature distributions and behavioural parameters (such as trip length distributions and parking time distributions). ==== Evaporative emissions ==== For petrol vehicles only (hydrocarbon emissions for diesel vehicles are negligible), consisting of: soaking emissions (in g/vehicle) due to contraction and expenditure of fuel due to diurnally changing ambient temperatures evaporation on parking the hot or warm vehicle (in g/stop) running losses due to evaporation during operation of the vehicle (g/vehicle-km)', '43778274', '2023-12-08T06:40:51Z'), ('https://en.wikipedia.org/wiki/Handbook_Emission_Factors_for_Road_Transport', 'Handbook Emission Factors for Road Transport', '2023-12-08T06:40:51Z', ' Features ', ' Vehicle category ', 'HBEFA provides emission factors for passenger cars, light commercial vehicles, heavy duty vehicles (rigid and articulated trucks; truck and trailers), urban buses, coaches and motorcycles.', '43778274', '2023-12-08T06:40:51Z'), ('https://en.wikipedia.org/wiki/Handbook_Emission_Factors_for_Road_Transport', 'Handbook Emission Factors for Road Transport', '2023-12-08T06:40:51Z', ' Features ', ' Reference years ', 'Emission factors are provided by reference year, i.e. by varying country specific fleet compositions both for past years and future projections. In the current version, emission factors for the years from 1990 to 2035 are available.', '43778274', '2023-12-08T06:40:51Z'), ('https://en.wikipedia.org/wiki/Handbook_Emission_Factors_for_Road_Transport', 'Handbook Emission Factors for Road Transport', '2023-12-08T06:40:51Z', ' Features ', ' Pollutants, greenhouse gases and fuel consumption ', 'Factors for the following components are provided: CO, NOx, HC and several components of hydrocarbons (CH4, NMHC, benzene, toluene, xylene), fuel consumption (gasoline, diesel), CO2, NH3 and N2O, NO2, particle numbers (PN) and particle mass (PM).', '43778274', '2023-12-08T06:40:51Z'), ('https://en.wikipedia.org/wiki/Handbook_Emission_Factors_for_Road_Transport', 'Handbook Emission Factors for Road Transport', '2023-12-08T06:40:51Z', ' Application ', ' Pollutants, greenhouse gases and fuel consumption ', 'HBEFA is used in a wide range of applications, such as: National inventory reports of emissions and greenhouse gases directly (e.g. for Switzerland, Austria, Norway, Sweden, etc.) and indirectly via intermediate tools based on HBEFA emission factors such as COPERT or TREMOD. Air quality modelling on regional and local level Impact assessments Projections and scenarios for estimating transport related emissions and energy consumption Teaching Applied research', '43778274', '2023-12-08T06:40:51Z'), ('https://en.wikipedia.org/wiki/Handbook_Emission_Factors_for_Road_Transport', 'Handbook Emission Factors for Road Transport', '2023-12-08T06:40:51Z', ' History ', ' Pollutants, greenhouse gases and fuel consumption ', 'HBEFA Version (1.1) was published in 1995. It provided data for Germany and Switzerland (and in 1998 Version “1.1A” included data for Austria as well). The next version (1.2) was developed in 1999, Version 2.1 was released in February 2004. Version 3.1 dates from 30. January 2010 and provides (apart from generic emission factors) also average emission factors for Germany, Austria, Switzerland, Sweden and Norway. Version 3.2 is an update to version 3.1 and is available since mid-2014.A stripped-down online version of HBEFA (available on www.hbefa.net) is intended for occasional users with primary interest in aggregate values.', '43778274', '2023-12-08T06:40:51Z'), ('https://en.wikipedia.org/wiki/Handbook_Emission_Factors_for_Road_Transport', 'Handbook Emission Factors for Road Transport', '2023-12-08T06:40:51Z', ' Regional adaptations ', ' European countries ', 'The base version of HBEFA (European version) is adapted to European traffic conditions (emission factors, fuel characteristics, traffic situations, etc.). It contains country specific data sets for Germany, Switzerland, Austria, France, Norway and Sweden. The methodological approach for these countries is identical. The European version is publicly available from www.hbefa.net.', '43778274', '2023-12-08T06:40:51Z'), ('https://en.wikipedia.org/wiki/Handbook_Emission_Factors_for_Road_Transport', 'Handbook Emission Factors for Road Transport', '2023-12-08T06:40:51Z', ' Regional adaptations ', ' China ', 'HBEFA (\"expert version\") has been adapted to China with support of the Deutsche Gesellschaft für Internationale Zusammenarbeit (GIZ) GmbH supported by the Bundesministerium für Umwelt, Naturschutz, Bau und Reaktorsicherheit (BMUB) Archived 2017-06-16 at the Wayback Machine, its partners at the Beijing Transportation Research Center (BTRC) Archived 2020-11-04 at the Wayback Machine and Shenzhen Urban Transport Planning Center (SUTPC), and INFRAS in 2014. In a joint approach the European handbook was adapted to Chinese traffic conditions using typical driving cycles from various Chinese cities. As for Europe, the database provides emission factors differentiated by vehicle category, road type, and level of service (LOS) for road transport in Chinese cities. While focussing on CO2-emission factors in the present stages of the project, air pollutant emission factors are included as well. The latter are currently being further validated. The Chinese adaptation is currently only available for participating Chinese cities and local experts.', '43778274', '2023-12-08T06:40:51Z')]\n"
     ]
    },
    {
     "ename": "",
     "evalue": "",
     "output_type": "error",
     "traceback": [
      "\u001b[1;31mThe Kernel crashed while executing code in the the current cell or a previous cell. Please review the code in the cell(s) to identify a possible cause of the failure. Click <a href='https://aka.ms/vscodeJupyterKernelCrash'>here</a> for more info. View Jupyter <a href='command:jupyter.viewOutput'>log</a> for further details."
     ]
    }
   ],
   "source": [
    "sections = get_page_sections(43778274)\n",
    "print(sections)"
   ]
  },
  {
   "cell_type": "code",
   "execution_count": null,
   "metadata": {},
   "outputs": [],
   "source": []
  }
 ],
 "metadata": {
  "kernelspec": {
   "display_name": "tesis",
   "language": "python",
   "name": "python3"
  },
  "language_info": {
   "codemirror_mode": {
    "name": "ipython",
    "version": 3
   },
   "file_extension": ".py",
   "mimetype": "text/x-python",
   "name": "python",
   "nbconvert_exporter": "python",
   "pygments_lexer": "ipython3",
   "version": "3.9.0"
  }
 },
 "nbformat": 4,
 "nbformat_minor": 2
}
