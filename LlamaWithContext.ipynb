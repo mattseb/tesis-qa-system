{
  "cells": [
    {
      "cell_type": "code",
      "execution_count": 1,
      "metadata": {
        "colab": {
          "base_uri": "https://localhost:8080/"
        },
        "id": "L0avf7xx2lcj",
        "outputId": "71c3170a-90a3-4c34-cf18-b4b8ed791b2e"
      },
      "outputs": [
        {
          "name": "stderr",
          "output_type": "stream",
          "text": [
            "\"CMAKE_ARGS\" no se reconoce como un comando interno o externo,\n",
            "programa o archivo por lotes ejecutable.\n"
          ]
        },
        {
          "name": "stdout",
          "output_type": "stream",
          "text": [
            "Requirement already satisfied: huggingface_hub in c:\\users\\mateo\\documents\\entornos\\tesis\\lib\\site-packages (0.16.4)\n",
            "Requirement already satisfied: tqdm>=4.42.1 in c:\\users\\mateo\\documents\\entornos\\tesis\\lib\\site-packages (from huggingface_hub) (4.66.1)\n",
            "Requirement already satisfied: typing-extensions>=3.7.4.3 in c:\\users\\mateo\\documents\\entornos\\tesis\\lib\\site-packages (from huggingface_hub) (4.5.0)\n",
            "Requirement already satisfied: requests in c:\\users\\mateo\\documents\\entornos\\tesis\\lib\\site-packages (from huggingface_hub) (2.31.0)\n",
            "Requirement already satisfied: pyyaml>=5.1 in c:\\users\\mateo\\documents\\entornos\\tesis\\lib\\site-packages (from huggingface_hub) (6.0.1)\n",
            "Requirement already satisfied: packaging>=20.9 in c:\\users\\mateo\\documents\\entornos\\tesis\\lib\\site-packages (from huggingface_hub) (23.1)\n",
            "Requirement already satisfied: fsspec in c:\\users\\mateo\\documents\\entornos\\tesis\\lib\\site-packages (from huggingface_hub) (2023.9.0)\n",
            "Requirement already satisfied: filelock in c:\\users\\mateo\\documents\\entornos\\tesis\\lib\\site-packages (from huggingface_hub) (3.12.3)\n",
            "Requirement already satisfied: colorama; platform_system == \"Windows\" in c:\\users\\mateo\\documents\\entornos\\tesis\\lib\\site-packages (from tqdm>=4.42.1->huggingface_hub) (0.4.6)\n",
            "Requirement already satisfied: idna<4,>=2.5 in c:\\users\\mateo\\documents\\entornos\\tesis\\lib\\site-packages (from requests->huggingface_hub) (3.4)\n",
            "Requirement already satisfied: certifi>=2017.4.17 in c:\\users\\mateo\\documents\\entornos\\tesis\\lib\\site-packages (from requests->huggingface_hub) (2023.7.22)\n",
            "Requirement already satisfied: urllib3<3,>=1.21.1 in c:\\users\\mateo\\documents\\entornos\\tesis\\lib\\site-packages (from requests->huggingface_hub) (2.0.4)\n",
            "Requirement already satisfied: charset-normalizer<4,>=2 in c:\\users\\mateo\\documents\\entornos\\tesis\\lib\\site-packages (from requests->huggingface_hub) (3.2.0)\n"
          ]
        },
        {
          "name": "stderr",
          "output_type": "stream",
          "text": [
            "WARNING: You are using pip version 20.2.3; however, version 23.3.1 is available.\n",
            "You should consider upgrading via the 'c:\\users\\mateo\\documents\\entornos\\tesis\\scripts\\python.exe -m pip install --upgrade pip' command.\n"
          ]
        },
        {
          "name": "stdout",
          "output_type": "stream",
          "text": [
            "Requirement already satisfied: llama-cpp-python==0.1.78 in c:\\users\\mateo\\documents\\entornos\\tesis\\lib\\site-packages (0.1.78)\n",
            "Requirement already satisfied: numpy>=1.20.0 in c:\\users\\mateo\\documents\\entornos\\tesis\\lib\\site-packages (from llama-cpp-python==0.1.78) (1.23.4)\n",
            "Requirement already satisfied: typing-extensions>=4.5.0 in c:\\users\\mateo\\documents\\entornos\\tesis\\lib\\site-packages (from llama-cpp-python==0.1.78) (4.5.0)\n",
            "Requirement already satisfied: diskcache>=5.6.1 in c:\\users\\mateo\\documents\\entornos\\tesis\\lib\\site-packages (from llama-cpp-python==0.1.78) (5.6.3)\n"
          ]
        },
        {
          "name": "stderr",
          "output_type": "stream",
          "text": [
            "WARNING: You are using pip version 20.2.3; however, version 23.3.1 is available.\n",
            "You should consider upgrading via the 'c:\\users\\mateo\\documents\\entornos\\tesis\\scripts\\python.exe -m pip install --upgrade pip' command.\n"
          ]
        },
        {
          "name": "stdout",
          "output_type": "stream",
          "text": [
            "Requirement already satisfied: numpy==1.23.4 in c:\\users\\mateo\\documents\\entornos\\tesis\\lib\\site-packages (1.23.4)\n"
          ]
        },
        {
          "name": "stderr",
          "output_type": "stream",
          "text": [
            "WARNING: You are using pip version 20.2.3; however, version 23.3.1 is available.\n",
            "You should consider upgrading via the 'c:\\users\\mateo\\documents\\entornos\\tesis\\scripts\\python.exe -m pip install --upgrade pip' command.\n"
          ]
        }
      ],
      "source": [
        "# GPU llama-cpp-python\n",
        "!CMAKE_ARGS=\"-DLLAMA_CUBLAS=on\" FORCE_CMAKE=1 pip install llama-cpp-python==0.1.78 numpy==1.23.4 --force-reinstall --upgrade --no-cache-dir --verbose\n",
        "!pip install huggingface_hub\n",
        "!pip install llama-cpp-python==0.1.78\n",
        "!pip install numpy==1.23.4"
      ]
    },
    {
      "cell_type": "code",
      "execution_count": 2,
      "metadata": {
        "colab": {
          "base_uri": "https://localhost:8080/"
        },
        "id": "acYlBBypRZgP",
        "outputId": "5995e58f-322a-4c34-e60b-ca87d119ba1a"
      },
      "outputs": [
        {
          "name": "stdout",
          "output_type": "stream",
          "text": [
            "Requirement already satisfied: ctransformers in c:\\users\\mateo\\documents\\entornos\\tesis\\lib\\site-packages (0.2.27)\n",
            "Requirement already satisfied: py-cpuinfo<10.0.0,>=9.0.0 in c:\\users\\mateo\\documents\\entornos\\tesis\\lib\\site-packages (from ctransformers) (9.0.0)\n",
            "Requirement already satisfied: huggingface-hub in c:\\users\\mateo\\documents\\entornos\\tesis\\lib\\site-packages (from ctransformers) (0.16.4)\n",
            "Requirement already satisfied: filelock in c:\\users\\mateo\\documents\\entornos\\tesis\\lib\\site-packages (from huggingface-hub->ctransformers) (3.12.3)\n",
            "Requirement already satisfied: packaging>=20.9 in c:\\users\\mateo\\documents\\entornos\\tesis\\lib\\site-packages (from huggingface-hub->ctransformers) (23.1)\n",
            "Requirement already satisfied: typing-extensions>=3.7.4.3 in c:\\users\\mateo\\documents\\entornos\\tesis\\lib\\site-packages (from huggingface-hub->ctransformers) (4.5.0)\n",
            "Requirement already satisfied: fsspec in c:\\users\\mateo\\documents\\entornos\\tesis\\lib\\site-packages (from huggingface-hub->ctransformers) (2023.9.0)\n",
            "Requirement already satisfied: pyyaml>=5.1 in c:\\users\\mateo\\documents\\entornos\\tesis\\lib\\site-packages (from huggingface-hub->ctransformers) (6.0.1)\n",
            "Requirement already satisfied: tqdm>=4.42.1 in c:\\users\\mateo\\documents\\entornos\\tesis\\lib\\site-packages (from huggingface-hub->ctransformers) (4.66.1)\n",
            "Requirement already satisfied: requests in c:\\users\\mateo\\documents\\entornos\\tesis\\lib\\site-packages (from huggingface-hub->ctransformers) (2.31.0)\n",
            "Requirement already satisfied: colorama; platform_system == \"Windows\" in c:\\users\\mateo\\documents\\entornos\\tesis\\lib\\site-packages (from tqdm>=4.42.1->huggingface-hub->ctransformers) (0.4.6)\n",
            "Requirement already satisfied: urllib3<3,>=1.21.1 in c:\\users\\mateo\\documents\\entornos\\tesis\\lib\\site-packages (from requests->huggingface-hub->ctransformers) (2.0.4)\n",
            "Requirement already satisfied: certifi>=2017.4.17 in c:\\users\\mateo\\documents\\entornos\\tesis\\lib\\site-packages (from requests->huggingface-hub->ctransformers) (2023.7.22)\n",
            "Requirement already satisfied: charset-normalizer<4,>=2 in c:\\users\\mateo\\documents\\entornos\\tesis\\lib\\site-packages (from requests->huggingface-hub->ctransformers) (3.2.0)\n",
            "Requirement already satisfied: idna<4,>=2.5 in c:\\users\\mateo\\documents\\entornos\\tesis\\lib\\site-packages (from requests->huggingface-hub->ctransformers) (3.4)\n"
          ]
        },
        {
          "name": "stderr",
          "output_type": "stream",
          "text": [
            "WARNING: You are using pip version 20.2.3; however, version 23.3.1 is available.\n",
            "You should consider upgrading via the 'c:\\users\\mateo\\documents\\entornos\\tesis\\scripts\\python.exe -m pip install --upgrade pip' command.\n"
          ]
        }
      ],
      "source": [
        "!pip install ctransformers\n"
      ]
    },
    {
      "cell_type": "code",
      "execution_count": 1,
      "metadata": {
        "id": "qJ90LnMv54Y-"
      },
      "outputs": [],
      "source": [
        "model_name_or_path = \"TheBloke/Llama-2-13B-chat-GGML\"\n",
        "model_basename = \"llama-2-13b-chat.ggmlv3.q5_1.bin\" # the model is in bin format"
      ]
    },
    {
      "cell_type": "code",
      "execution_count": 2,
      "metadata": {
        "id": "Ak3ZtGjM6Wdp"
      },
      "outputs": [
        {
          "name": "stderr",
          "output_type": "stream",
          "text": [
            "c:\\Users\\mateo\\Documents\\Entornos\\tesis\\lib\\site-packages\\tqdm\\auto.py:21: TqdmWarning: IProgress not found. Please update jupyter and ipywidgets. See https://ipywidgets.readthedocs.io/en/stable/user_install.html\n",
            "  from .autonotebook import tqdm as notebook_tqdm\n"
          ]
        }
      ],
      "source": [
        "from huggingface_hub import hf_hub_download\n"
      ]
    },
    {
      "cell_type": "code",
      "execution_count": 3,
      "metadata": {
        "id": "85XOzmui6rGN"
      },
      "outputs": [],
      "source": [
        "from llama_cpp import Llama\n"
      ]
    },
    {
      "cell_type": "code",
      "execution_count": 4,
      "metadata": {
        "colab": {
          "base_uri": "https://localhost:8080/",
          "height": 86,
          "referenced_widgets": [
            "4d181bb7705b438687df94e9751b787c",
            "f1ad29ca1ece4e998148ea1cf391ee54",
            "5429583c277f44ae827ff7493fbcfe6a",
            "a340c2e6bab94283bbdee92b7230d1a0",
            "57d6f4c9f6cb41ea80de4ef966fb0a94",
            "a4d6999dddda4218ad27f265230f63ba",
            "90f9edcf9b8b4a4cbc4017682253ddd6",
            "1668ecdf187343cb9b121e9824d80af2",
            "28094411f45d44d39a056e725276b552",
            "624849e0ef3a4e4fbab6d2442cd8a9c3",
            "c946028c4f244acc9749018d099fa624"
          ]
        },
        "id": "kIelHOSjQelI",
        "outputId": "0312849e-6aa8-48b6-d351-564007930174"
      },
      "outputs": [],
      "source": [
        "from transformers import AutoTokenizer"
      ]
    },
    {
      "cell_type": "code",
      "execution_count": 5,
      "metadata": {
        "id": "qBgdGV4b6MxG"
      },
      "outputs": [],
      "source": [
        "model_path = hf_hub_download(repo_id=model_name_or_path, filename=model_basename)\n",
        "#model_path = hf_hub_download(repo_id=model_name_or_path)"
      ]
    },
    {
      "cell_type": "code",
      "execution_count": 6,
      "metadata": {
        "id": "8UOUe1TjDPrs"
      },
      "outputs": [],
      "source": [
        "def llama_with_context(model_path_value,topic_value, prompt_value,\n",
        "                       context_value, prompt_template_value, max_tokens_value,\n",
        "                       temperature_value, top_p_value, repeat_penalty_value,\n",
        "                       top_k_value, echo_value):\n",
        "\n",
        "  lcpp_llm = None\n",
        "  lcpp_llm = Llama(\n",
        "      model_path=model_path,\n",
        "      n_threads=12, # CPU cores\n",
        "      n_batch=512, # Should be between 1 and n_ctx, consider the amount of VRAM in your GPU.\n",
        "      n_gpu_layers=32 # Change this value based on your model and your GPU VRAM pool.\n",
        "      )\n",
        "\n",
        "  #See the number of layers in GPU\n",
        "  #lcpp_llm.params.n_gpu_layers\n",
        "\n",
        "  topic = topic_value\n",
        "\n",
        "  prompt = prompt_value\n",
        "\n",
        "  context = context_value\n",
        "\n",
        "  prompt_template = prompt_template_value\n",
        "\n",
        "  #print(type(prompt_template))\n",
        "\n",
        "  response=lcpp_llm(prompt=prompt_template,\n",
        "                  max_tokens= max_tokens_value,\n",
        "                  temperature= temperature_value,\n",
        "                  top_p=top_p_value,\n",
        "                  repeat_penalty=repeat_penalty_value,\n",
        "                  top_k = top_k_value,\n",
        "                  echo= echo_value)\n",
        "\n",
        "  respuesta = response[\"choices\"][0][\"text\"].split(\"ASSISTANT:\")[1]\n",
        "\n",
        "  return respuesta\n"
      ]
    },
    {
      "cell_type": "code",
      "execution_count": 7,
      "metadata": {
        "id": "oApFkNw4GKzN"
      },
      "outputs": [],
      "source": [
        "\n",
        "#Prompt (Pregunta al modelo)\n",
        "prompt = \"Enlist some examples of contaminants that are in a natural environment\"\n",
        "\n",
        "#Context\n",
        "context = '''The following compounds can all reach water bodies via raw sewage or even treated sewage discharges: Various chemical compounds found in personal hygiene and cosmetic products. Disinfection by-products found in chemically disinfected drinking water (whilst these chemicals can be a pollutant in the water distribution network, they are fairly volatile and therefore not usually found in environmental waters). Hormones (from animal husbandry and residue from human hormonal contraception methods) and synthetic materials such as phthalates that mimic hormones in their action.'''\n",
        "\n",
        "topic = 'Contamination'\n",
        "\n",
        "#template\n",
        "prompt_template=f'''SYSTEM: You are an assistant expert on {topic}.\n",
        "\n",
        "CONTEXT: {context}\n",
        "\n",
        "USER: {prompt}\n",
        "\n",
        "ASSISTANT:\n",
        "\n",
        "'''\n"
      ]
    },
    {
      "cell_type": "code",
      "execution_count": 8,
      "metadata": {
        "id": "L2mg_5tvOE79"
      },
      "outputs": [],
      "source": [
        "#prompt_value=prompt_template\n",
        "max_tokens=1024\n",
        "temperature=0.5\n",
        "top_p=0.95\n",
        "repeat_penalty=1.2\n",
        "top_k=150\n",
        "echo=True"
      ]
    },
    {
      "cell_type": "code",
      "execution_count": 9,
      "metadata": {
        "colab": {
          "base_uri": "https://localhost:8080/"
        },
        "id": "-23SclKlEcao",
        "outputId": "ad5d508a-572c-499e-b974-862176a007dd"
      },
      "outputs": [
        {
          "name": "stderr",
          "output_type": "stream",
          "text": [
            "AVX = 1 | AVX2 = 1 | AVX512 = 0 | AVX512_VBMI = 0 | AVX512_VNNI = 0 | FMA = 1 | NEON = 0 | ARM_FMA = 0 | F16C = 1 | FP16_VA = 0 | WASM_SIMD = 0 | BLAS = 0 | SSE3 = 1 | VSX = 0 | \n"
          ]
        },
        {
          "name": "stdout",
          "output_type": "stream",
          "text": [
            "\n",
            "\n",
            "1. Pharmaceutical residues from human or animal wastewater discharges, such as antibiotics and painkillers. 2. Hormones like estrogen and testosterone from farming operations and hormonal contraception methods. 3. Disinfection by-products (DBPs) created during drinking water treatment, including trihalomethanes (THMs) and haloacetic acids (HAAs). 4. Personal care product residues like triclosan and parabens found in soaps, lotions, and toothpaste.\n",
            "5. Synthetic materials such as phthalates that mimic hormones in their action. These can be present in personal care products or from industrial processes. 6. Industrial chemicals like polychlorinated biphenyls (PCBs) and polycyclic aromatic hydrocarbons (PAHs), which can enter water bodies through runoff or direct discharge.\n",
            "7. Heavy metals such as lead, mercury, and arsenic from industrial processes, vehicle emissions, and agricultural practices. These can accumulate in fish and other organisms, causing health problems if consumed. 8. Microplastics from cosmetic products, clothing, and plastic debris that enter the water through wastewater treatment plant discharges or directly into surface waters.\n",
            "9. Pesticides and herbicides used in agriculture, which can run off into nearby water bodies\n"
          ]
        }
      ],
      "source": [
        "respuesta = llama_with_context(model_path, topic, prompt, context, prompt_template, max_tokens,  temperature, top_p, repeat_penalty, top_k, echo)\n",
        "\n",
        "print(respuesta)"
      ]
    }
  ],
  "metadata": {
    "accelerator": "GPU",
    "colab": {
      "gpuType": "T4",
      "provenance": []
    },
    "kernelspec": {
      "display_name": "Python 3",
      "name": "python3"
    },
    "language_info": {
      "codemirror_mode": {
        "name": "ipython",
        "version": 3
      },
      "file_extension": ".py",
      "mimetype": "text/x-python",
      "name": "python",
      "nbconvert_exporter": "python",
      "pygments_lexer": "ipython3",
      "version": "3.9.0"
    },
    "widgets": {
      "application/vnd.jupyter.widget-state+json": {
        "1668ecdf187343cb9b121e9824d80af2": {
          "model_module": "@jupyter-widgets/base",
          "model_module_version": "1.2.0",
          "model_name": "LayoutModel",
          "state": {
            "_model_module": "@jupyter-widgets/base",
            "_model_module_version": "1.2.0",
            "_model_name": "LayoutModel",
            "_view_count": null,
            "_view_module": "@jupyter-widgets/base",
            "_view_module_version": "1.2.0",
            "_view_name": "LayoutView",
            "align_content": null,
            "align_items": null,
            "align_self": null,
            "border": null,
            "bottom": null,
            "display": null,
            "flex": null,
            "flex_flow": null,
            "grid_area": null,
            "grid_auto_columns": null,
            "grid_auto_flow": null,
            "grid_auto_rows": null,
            "grid_column": null,
            "grid_gap": null,
            "grid_row": null,
            "grid_template_areas": null,
            "grid_template_columns": null,
            "grid_template_rows": null,
            "height": null,
            "justify_content": null,
            "justify_items": null,
            "left": null,
            "margin": null,
            "max_height": null,
            "max_width": null,
            "min_height": null,
            "min_width": null,
            "object_fit": null,
            "object_position": null,
            "order": null,
            "overflow": null,
            "overflow_x": null,
            "overflow_y": null,
            "padding": null,
            "right": null,
            "top": null,
            "visibility": null,
            "width": "20px"
          }
        },
        "28094411f45d44d39a056e725276b552": {
          "model_module": "@jupyter-widgets/controls",
          "model_module_version": "1.5.0",
          "model_name": "ProgressStyleModel",
          "state": {
            "_model_module": "@jupyter-widgets/controls",
            "_model_module_version": "1.5.0",
            "_model_name": "ProgressStyleModel",
            "_view_count": null,
            "_view_module": "@jupyter-widgets/base",
            "_view_module_version": "1.2.0",
            "_view_name": "StyleView",
            "bar_color": null,
            "description_width": ""
          }
        },
        "4d181bb7705b438687df94e9751b787c": {
          "model_module": "@jupyter-widgets/controls",
          "model_module_version": "1.5.0",
          "model_name": "HBoxModel",
          "state": {
            "_dom_classes": [],
            "_model_module": "@jupyter-widgets/controls",
            "_model_module_version": "1.5.0",
            "_model_name": "HBoxModel",
            "_view_count": null,
            "_view_module": "@jupyter-widgets/controls",
            "_view_module_version": "1.5.0",
            "_view_name": "HBoxView",
            "box_style": "",
            "children": [
              "IPY_MODEL_f1ad29ca1ece4e998148ea1cf391ee54",
              "IPY_MODEL_5429583c277f44ae827ff7493fbcfe6a",
              "IPY_MODEL_a340c2e6bab94283bbdee92b7230d1a0"
            ],
            "layout": "IPY_MODEL_57d6f4c9f6cb41ea80de4ef966fb0a94"
          }
        },
        "5429583c277f44ae827ff7493fbcfe6a": {
          "model_module": "@jupyter-widgets/controls",
          "model_module_version": "1.5.0",
          "model_name": "FloatProgressModel",
          "state": {
            "_dom_classes": [],
            "_model_module": "@jupyter-widgets/controls",
            "_model_module_version": "1.5.0",
            "_model_name": "FloatProgressModel",
            "_view_count": null,
            "_view_module": "@jupyter-widgets/controls",
            "_view_module_version": "1.5.0",
            "_view_name": "ProgressView",
            "bar_style": "success",
            "description": "",
            "description_tooltip": null,
            "layout": "IPY_MODEL_1668ecdf187343cb9b121e9824d80af2",
            "max": 1,
            "min": 0,
            "orientation": "horizontal",
            "style": "IPY_MODEL_28094411f45d44d39a056e725276b552",
            "value": 0
          }
        },
        "57d6f4c9f6cb41ea80de4ef966fb0a94": {
          "model_module": "@jupyter-widgets/base",
          "model_module_version": "1.2.0",
          "model_name": "LayoutModel",
          "state": {
            "_model_module": "@jupyter-widgets/base",
            "_model_module_version": "1.2.0",
            "_model_name": "LayoutModel",
            "_view_count": null,
            "_view_module": "@jupyter-widgets/base",
            "_view_module_version": "1.2.0",
            "_view_name": "LayoutView",
            "align_content": null,
            "align_items": null,
            "align_self": null,
            "border": null,
            "bottom": null,
            "display": null,
            "flex": null,
            "flex_flow": null,
            "grid_area": null,
            "grid_auto_columns": null,
            "grid_auto_flow": null,
            "grid_auto_rows": null,
            "grid_column": null,
            "grid_gap": null,
            "grid_row": null,
            "grid_template_areas": null,
            "grid_template_columns": null,
            "grid_template_rows": null,
            "height": null,
            "justify_content": null,
            "justify_items": null,
            "left": null,
            "margin": null,
            "max_height": null,
            "max_width": null,
            "min_height": null,
            "min_width": null,
            "object_fit": null,
            "object_position": null,
            "order": null,
            "overflow": null,
            "overflow_x": null,
            "overflow_y": null,
            "padding": null,
            "right": null,
            "top": null,
            "visibility": null,
            "width": null
          }
        },
        "624849e0ef3a4e4fbab6d2442cd8a9c3": {
          "model_module": "@jupyter-widgets/base",
          "model_module_version": "1.2.0",
          "model_name": "LayoutModel",
          "state": {
            "_model_module": "@jupyter-widgets/base",
            "_model_module_version": "1.2.0",
            "_model_name": "LayoutModel",
            "_view_count": null,
            "_view_module": "@jupyter-widgets/base",
            "_view_module_version": "1.2.0",
            "_view_name": "LayoutView",
            "align_content": null,
            "align_items": null,
            "align_self": null,
            "border": null,
            "bottom": null,
            "display": null,
            "flex": null,
            "flex_flow": null,
            "grid_area": null,
            "grid_auto_columns": null,
            "grid_auto_flow": null,
            "grid_auto_rows": null,
            "grid_column": null,
            "grid_gap": null,
            "grid_row": null,
            "grid_template_areas": null,
            "grid_template_columns": null,
            "grid_template_rows": null,
            "height": null,
            "justify_content": null,
            "justify_items": null,
            "left": null,
            "margin": null,
            "max_height": null,
            "max_width": null,
            "min_height": null,
            "min_width": null,
            "object_fit": null,
            "object_position": null,
            "order": null,
            "overflow": null,
            "overflow_x": null,
            "overflow_y": null,
            "padding": null,
            "right": null,
            "top": null,
            "visibility": null,
            "width": null
          }
        },
        "90f9edcf9b8b4a4cbc4017682253ddd6": {
          "model_module": "@jupyter-widgets/controls",
          "model_module_version": "1.5.0",
          "model_name": "DescriptionStyleModel",
          "state": {
            "_model_module": "@jupyter-widgets/controls",
            "_model_module_version": "1.5.0",
            "_model_name": "DescriptionStyleModel",
            "_view_count": null,
            "_view_module": "@jupyter-widgets/base",
            "_view_module_version": "1.2.0",
            "_view_name": "StyleView",
            "description_width": ""
          }
        },
        "a340c2e6bab94283bbdee92b7230d1a0": {
          "model_module": "@jupyter-widgets/controls",
          "model_module_version": "1.5.0",
          "model_name": "HTMLModel",
          "state": {
            "_dom_classes": [],
            "_model_module": "@jupyter-widgets/controls",
            "_model_module_version": "1.5.0",
            "_model_name": "HTMLModel",
            "_view_count": null,
            "_view_module": "@jupyter-widgets/controls",
            "_view_module_version": "1.5.0",
            "_view_name": "HTMLView",
            "description": "",
            "description_tooltip": null,
            "layout": "IPY_MODEL_624849e0ef3a4e4fbab6d2442cd8a9c3",
            "placeholder": "​",
            "style": "IPY_MODEL_c946028c4f244acc9749018d099fa624",
            "value": " 0/0 [00:00&lt;?, ?it/s]"
          }
        },
        "a4d6999dddda4218ad27f265230f63ba": {
          "model_module": "@jupyter-widgets/base",
          "model_module_version": "1.2.0",
          "model_name": "LayoutModel",
          "state": {
            "_model_module": "@jupyter-widgets/base",
            "_model_module_version": "1.2.0",
            "_model_name": "LayoutModel",
            "_view_count": null,
            "_view_module": "@jupyter-widgets/base",
            "_view_module_version": "1.2.0",
            "_view_name": "LayoutView",
            "align_content": null,
            "align_items": null,
            "align_self": null,
            "border": null,
            "bottom": null,
            "display": null,
            "flex": null,
            "flex_flow": null,
            "grid_area": null,
            "grid_auto_columns": null,
            "grid_auto_flow": null,
            "grid_auto_rows": null,
            "grid_column": null,
            "grid_gap": null,
            "grid_row": null,
            "grid_template_areas": null,
            "grid_template_columns": null,
            "grid_template_rows": null,
            "height": null,
            "justify_content": null,
            "justify_items": null,
            "left": null,
            "margin": null,
            "max_height": null,
            "max_width": null,
            "min_height": null,
            "min_width": null,
            "object_fit": null,
            "object_position": null,
            "order": null,
            "overflow": null,
            "overflow_x": null,
            "overflow_y": null,
            "padding": null,
            "right": null,
            "top": null,
            "visibility": null,
            "width": null
          }
        },
        "c946028c4f244acc9749018d099fa624": {
          "model_module": "@jupyter-widgets/controls",
          "model_module_version": "1.5.0",
          "model_name": "DescriptionStyleModel",
          "state": {
            "_model_module": "@jupyter-widgets/controls",
            "_model_module_version": "1.5.0",
            "_model_name": "DescriptionStyleModel",
            "_view_count": null,
            "_view_module": "@jupyter-widgets/base",
            "_view_module_version": "1.2.0",
            "_view_name": "StyleView",
            "description_width": ""
          }
        },
        "f1ad29ca1ece4e998148ea1cf391ee54": {
          "model_module": "@jupyter-widgets/controls",
          "model_module_version": "1.5.0",
          "model_name": "HTMLModel",
          "state": {
            "_dom_classes": [],
            "_model_module": "@jupyter-widgets/controls",
            "_model_module_version": "1.5.0",
            "_model_name": "HTMLModel",
            "_view_count": null,
            "_view_module": "@jupyter-widgets/controls",
            "_view_module_version": "1.5.0",
            "_view_name": "HTMLView",
            "description": "",
            "description_tooltip": null,
            "layout": "IPY_MODEL_a4d6999dddda4218ad27f265230f63ba",
            "placeholder": "​",
            "style": "IPY_MODEL_90f9edcf9b8b4a4cbc4017682253ddd6",
            "value": ""
          }
        }
      }
    }
  },
  "nbformat": 4,
  "nbformat_minor": 0
}
